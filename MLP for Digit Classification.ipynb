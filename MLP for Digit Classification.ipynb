{
 "cells": [
  {
   "cell_type": "markdown",
   "metadata": {},
   "source": [
    "# 3. BPNN\n",
    "## a. Inisialisasi dan Normalisasi Data"
   ]
  },
  {
   "cell_type": "code",
   "execution_count": 86,
   "metadata": {},
   "outputs": [
    {
     "data": {
      "text/plain": [
       "((1797, 64), (1797, 10))"
      ]
     },
     "execution_count": 86,
     "metadata": {},
     "output_type": "execute_result"
    }
   ],
   "source": [
    "from sklearn.datasets import load_digits\n",
    "from sklearn.preprocessing import MinMaxScaler, OneHotEncoder\n",
    "import numpy as np\n",
    "\n",
    "# load data\n",
    "digits = load_digits()\n",
    "\n",
    "# initialize x dan y\n",
    "x = list()\n",
    "y = list()\n",
    "\n",
    "for input, output in zip(digits.images, digits.target):\n",
    "    x.append(input.reshape((input.size)))\n",
    "    y.append(output.reshape(output.size))\n",
    "\n",
    "# normalisasi x dan y\n",
    "xScaler = MinMaxScaler()\n",
    "yScaler = OneHotEncoder(sparse = False)\n",
    "x = xScaler.fit_transform(np.array(x))\n",
    "y = yScaler.fit_transform(np.array(y))\n",
    "\n",
    "x.shape, y.shape"
   ]
  },
  {
   "cell_type": "markdown",
   "metadata": {},
   "source": [
    "## b. Split Data Train (80%), Validation (20%)"
   ]
  },
  {
   "cell_type": "code",
   "execution_count": 87,
   "metadata": {},
   "outputs": [
    {
     "data": {
      "text/plain": [
       "((1437, 64), (360, 64), (1437, 10), (360, 10))"
      ]
     },
     "execution_count": 87,
     "metadata": {},
     "output_type": "execute_result"
    }
   ],
   "source": [
    "from sklearn.model_selection import train_test_split\n",
    "\n",
    "# train = 80%, validation = 20%\n",
    "x_train, x_test, y_train, y_test = train_test_split(x, y, train_size = 0.8)\n",
    "\n",
    "x_train.shape, x_test.shape, y_train.shape, y_test.shape"
   ]
  },
  {
   "cell_type": "markdown",
   "metadata": {},
   "source": [
    "## c. Build BPNN Model with 3 layer (Input: 64 neuron - Hidden: 32 neuron - Output: 10 neuron)"
   ]
  },
  {
   "cell_type": "code",
   "execution_count": 88,
   "metadata": {},
   "outputs": [
    {
     "name": "stdout",
     "output_type": "stream",
     "text": [
      "Epoch 1/20\n",
      "45/45 [==============================] - 1s 13ms/step - loss: 0.0904 - accuracy: 0.1618 - val_loss: 0.0821 - val_accuracy: 0.3972\n",
      "Epoch 2/20\n",
      "45/45 [==============================] - 0s 4ms/step - loss: 0.0791 - accuracy: 0.4176 - val_loss: 0.0678 - val_accuracy: 0.4944\n",
      "Epoch 3/20\n",
      "45/45 [==============================] - 0s 5ms/step - loss: 0.0635 - accuracy: 0.5519 - val_loss: 0.0510 - val_accuracy: 0.7417\n",
      "Epoch 4/20\n",
      "45/45 [==============================] - 0s 4ms/step - loss: 0.0474 - accuracy: 0.7477 - val_loss: 0.0391 - val_accuracy: 0.8083\n",
      "Epoch 5/20\n",
      "45/45 [==============================] - 0s 4ms/step - loss: 0.0379 - accuracy: 0.8142 - val_loss: 0.0312 - val_accuracy: 0.8583\n",
      "Epoch 6/20\n",
      "45/45 [==============================] - 0s 5ms/step - loss: 0.0295 - accuracy: 0.8705 - val_loss: 0.0247 - val_accuracy: 0.9083\n",
      "Epoch 7/20\n",
      "45/45 [==============================] - 0s 4ms/step - loss: 0.0225 - accuracy: 0.9221 - val_loss: 0.0209 - val_accuracy: 0.9167\n",
      "Epoch 8/20\n",
      "45/45 [==============================] - 0s 4ms/step - loss: 0.0186 - accuracy: 0.9222 - val_loss: 0.0172 - val_accuracy: 0.9222\n",
      "Epoch 9/20\n",
      "45/45 [==============================] - 0s 4ms/step - loss: 0.0158 - accuracy: 0.9289 - val_loss: 0.0149 - val_accuracy: 0.9417\n",
      "Epoch 10/20\n",
      "45/45 [==============================] - 0s 5ms/step - loss: 0.0129 - accuracy: 0.9395 - val_loss: 0.0133 - val_accuracy: 0.9444\n",
      "Epoch 11/20\n",
      "45/45 [==============================] - 0s 5ms/step - loss: 0.0122 - accuracy: 0.9465 - val_loss: 0.0121 - val_accuracy: 0.9528\n",
      "Epoch 12/20\n",
      "45/45 [==============================] - 0s 5ms/step - loss: 0.0113 - accuracy: 0.9501 - val_loss: 0.0112 - val_accuracy: 0.9500\n",
      "Epoch 13/20\n",
      "45/45 [==============================] - 0s 5ms/step - loss: 0.0094 - accuracy: 0.9564 - val_loss: 0.0107 - val_accuracy: 0.9444\n",
      "Epoch 14/20\n",
      "45/45 [==============================] - 0s 5ms/step - loss: 0.0092 - accuracy: 0.9638 - val_loss: 0.0099 - val_accuracy: 0.9500\n",
      "Epoch 15/20\n",
      "45/45 [==============================] - 0s 4ms/step - loss: 0.0080 - accuracy: 0.9679 - val_loss: 0.0094 - val_accuracy: 0.9528\n",
      "Epoch 16/20\n",
      "45/45 [==============================] - 0s 4ms/step - loss: 0.0080 - accuracy: 0.9687 - val_loss: 0.0091 - val_accuracy: 0.9528\n",
      "Epoch 17/20\n",
      "45/45 [==============================] - 0s 6ms/step - loss: 0.0072 - accuracy: 0.9687 - val_loss: 0.0087 - val_accuracy: 0.9583\n",
      "Epoch 18/20\n",
      "45/45 [==============================] - 0s 5ms/step - loss: 0.0064 - accuracy: 0.9756 - val_loss: 0.0082 - val_accuracy: 0.9528\n",
      "Epoch 19/20\n",
      "45/45 [==============================] - 0s 4ms/step - loss: 0.0066 - accuracy: 0.9716 - val_loss: 0.0082 - val_accuracy: 0.9583\n",
      "Epoch 20/20\n",
      "45/45 [==============================] - 0s 4ms/step - loss: 0.0061 - accuracy: 0.9750 - val_loss: 0.0080 - val_accuracy: 0.9528\n"
     ]
    }
   ],
   "source": [
    "import tensorflow as tf\n",
    "\n",
    "# model layer shape (64 - 32 - 10)\n",
    "input_neuron = x.shape[1]\n",
    "output_neuron = y.shape[1]\n",
    "hidden_neuron = 32\n",
    "\n",
    "# build model\n",
    "model = tf.keras.Sequential()\n",
    "model.add(tf.keras.layers.Dense(hidden_neuron, input_dim = input_neuron, activation = \"relu\"))\n",
    "model.add(tf.keras.layers.Dense(output_neuron, activation = \"softmax\"))\n",
    "model.compile(loss = \"MSE\", optimizer = \"adam\", metrics = [\"accuracy\"])\n",
    "\n",
    "# train and validate model\n",
    "history = model.fit(x_train, y_train, epochs=20, validation_data = (x_test, y_test))"
   ]
  },
  {
   "cell_type": "markdown",
   "metadata": {},
   "source": [
    "## d. Model Accuracy"
   ]
  },
  {
   "cell_type": "code",
   "execution_count": 89,
   "metadata": {},
   "outputs": [
    {
     "name": "stdout",
     "output_type": "stream",
     "text": [
      "12/12 [==============================] - 0s 2ms/step - loss: 0.0080 - accuracy: 0.9528\n",
      "Accuracy: 95.27778029441833%\n"
     ]
    }
   ],
   "source": [
    "_, accuracy = model.evaluate(x_test, y_test)\n",
    "print(f\"Accuracy: {accuracy*100}%\")"
   ]
  },
  {
   "cell_type": "markdown",
   "metadata": {},
   "source": [
    "## A. Training accuracy and validation accuracy curves"
   ]
  },
  {
   "cell_type": "code",
   "execution_count": 90,
   "metadata": {},
   "outputs": [
    {
     "data": {
      "image/png": "[encoded data removed]",
      "text/plain": [
       "<Figure size 432x288 with 1 Axes>"
      ]
     },
     "metadata": {
      "needs_background": "light"
     },
     "output_type": "display_data"
    }
   ],
   "source": [
    "import matplotlib.pyplot as plt\n",
    "\n",
    "plt.plot(history.history['accuracy'])\n",
    "plt.plot(history.history['val_accuracy'])\n",
    "plt.title('Training accuracy and Validation accuracy')\n",
    "plt.ylabel('Accuracy')\n",
    "plt.xlabel('Epoch')\n",
    "plt.legend(['Training', 'Validation'])\n",
    "plt.show()"
   ]
  },
  {
   "cell_type": "markdown",
   "metadata": {},
   "source": [
    "## B. Performance analysis of the model based on the associated confusion matrix"
   ]
  },
  {
   "cell_type": "code",
   "execution_count": 91,
   "metadata": {},
   "outputs": [
    {
     "name": "stderr",
     "output_type": "stream",
     "text": [
      "C:\\Users\\ASUS\\anaconda3\\lib\\site-packages\\tensorflow\\python\\keras\\engine\\sequential.py:450: UserWarning: `model.predict_classes()` is deprecated and will be removed after 2021-01-01. Please use instead:* `np.argmax(model.predict(x), axis=-1)`,   if your model does multi-class classification   (e.g. if it uses a `softmax` last-layer activation).* `(model.predict(x) > 0.5).astype(\"int32\")`,   if your model does binary classification   (e.g. if it uses a `sigmoid` last-layer activation).\n",
      "  warnings.warn('`model.predict_classes()` is deprecated and '\n"
     ]
    },
    {
     "data": {
      "text/plain": [
       "array([[33,  0,  0,  0,  0,  0,  0,  0,  0,  0],\n",
       "       [ 0, 28,  0,  0,  0,  0,  0,  0,  0,  1],\n",
       "       [ 0,  0, 37,  0,  0,  0,  0,  0,  0,  0],\n",
       "       [ 0,  0,  2, 42,  0,  0,  0,  0,  0,  0],\n",
       "       [ 0,  1,  0,  0, 39,  0,  0,  0,  0,  0],\n",
       "       [ 0,  0,  0,  1,  0, 38,  0,  0,  0,  1],\n",
       "       [ 1,  0,  0,  0,  0,  0, 35,  0,  1,  0],\n",
       "       [ 0,  0,  0,  0,  0,  0,  0, 34,  0,  0],\n",
       "       [ 0,  3,  0,  0,  1,  1,  0,  1, 27,  0],\n",
       "       [ 0,  0,  0,  2,  0,  1,  0,  0,  0, 30]], dtype=int64)"
      ]
     },
     "execution_count": 91,
     "metadata": {},
     "output_type": "execute_result"
    }
   ],
   "source": [
    "from sklearn.metrics import confusion_matrix\n",
    "\n",
    "y_pred = model.predict_classes(x_test)\n",
    "confusion_matrix(yScaler.inverse_transform(y_test), y_pred)"
   ]
  },
  {
   "cell_type": "code",
   "execution_count": null,
   "metadata": {},
   "outputs": [],
   "source": []
  }
 ],
 "metadata": {
  "kernelspec": {
   "display_name": "Python 3",
   "language": "python",
   "name": "python3"
  },
  "language_info": {
   "codemirror_mode": {
    "name": "ipython",
    "version": 3
   },
   "file_extension": ".py",
   "mimetype": "text/x-python",
   "name": "python",
   "nbconvert_exporter": "python",
   "pygments_lexer": "ipython3",
   "version": "3.8.5"
  }
 },
 "nbformat": 4,
 "nbformat_minor": 4
}
